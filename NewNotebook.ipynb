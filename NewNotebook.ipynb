{
  "cells": [
    {
      "metadata": {
        "trusted": true
      },
      "cell_type": "code",
      "source": "todays_date = \"09-10-2019\"\ntodays_date2= \"September 9th, 2019\"\nfood = ['Chicken','Pasta','FrenchFries','Cereal','Pizza']\n\nprint(todays_date)\nprint(todays_date2)\nprint(food)",
      "execution_count": 20,
      "outputs": [
        {
          "output_type": "stream",
          "text": "09-10-2019\nSeptember 9th, 2019\n['Chicken', 'Pasta', 'FrenchFries', 'Cereal', 'Pizza']\n",
          "name": "stdout"
        }
      ]
    },
    {
      "metadata": {
        "trusted": true
      },
      "cell_type": "code",
      "source": "",
      "execution_count": null,
      "outputs": []
    },
    {
      "metadata": {
        "trusted": true
      },
      "cell_type": "code",
      "source": "",
      "execution_count": null,
      "outputs": []
    }
  ],
  "metadata": {
    "kernelspec": {
      "name": "python36",
      "display_name": "Python 3.6",
      "language": "python"
    },
    "language_info": {
      "mimetype": "text/x-python",
      "nbconvert_exporter": "python",
      "name": "python",
      "pygments_lexer": "ipython3",
      "version": "3.6.6",
      "file_extension": ".py",
      "codemirror_mode": {
        "version": 3,
        "name": "ipython"
      }
    }
  },
  "nbformat": 4,
  "nbformat_minor": 2
}